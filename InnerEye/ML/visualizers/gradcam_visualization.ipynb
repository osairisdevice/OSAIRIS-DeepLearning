{
 "cells": [
  {
   "cell_type": "code",
   "execution_count": null,
   "metadata": {},
   "outputs": [],
   "source": [
    "#  ------------------------------------------------------------------------------------------\n",
    "#  Copyright (c) Microsoft Corporation. All rights reserved.\n",
    "#  Licensed under the MIT License (MIT). See LICENSE in the repo root for license information.\n",
    "#  ------------------------------------------------------------------------------------------\n",
    "import sys\n",
    "import os"
   ]
  },
  {
   "cell_type": "markdown",
   "metadata": {},
   "source": [
    "# GradCam visualizations"
   ]
  },
  {
   "cell_type": "code",
   "execution_count": null,
   "metadata": {},
   "outputs": [],
   "source": [
    "import matplotlib.pyplot as plt\n",
    "import numpy as np\n",
    "\n",
    "\n",
    "from typing import Optional, Any\n",
    "def _plot_one_map(map: np.ndarray,\n",
    "                  image: np.ndarray,\n",
    "                  channel: int,\n",
    "                  slice: int,\n",
    "                  row: int,\n",
    "                  col: Optional[int]) -> None:\n",
    "    \"\"\"\n",
    "    Plots one visualization overlaid on one image for one\n",
    "    specific channel and slice at a chosen subplot.\n",
    "    \"\"\"\n",
    "    if col is not None:\n",
    "        current_ax = ax[row, col]\n",
    "    else:\n",
    "        current_ax = ax[row]\n",
    "    current_ax.imshow(image[channel, slice], cmap=plt.gray())\n",
    "    pos = current_ax.imshow(\n",
    "        map[channel, slice],\n",
    "        vmin=map.min(),\n",
    "        vmax=map.max(),\n",
    "        cmap=plt.jet(),\n",
    "        alpha=0.7\n",
    "    )\n",
    "    current_ax.set_xticks([])\n",
    "    current_ax.set_yticks([])\n",
    "    if slice == 0:\n",
    "        plt.colorbar(pos, plt.jet(), current_ax)\n",
    "    current_ax.set_anchor('W')"
   ]
  },
  {
   "cell_type": "code",
   "execution_count": null,
   "metadata": {
    "tags": [
     "parameters"
    ]
   },
   "outputs": [],
   "source": [
    "subject_id = \"The subject id\"\n",
    "gradcam_dir = \"Path/to/gradcam\"\n",
    "has_non_image_features = True\n",
    "has_image_features = True\n",
    "probas = [\"[0], [0]\"]\n",
    "ground_truth_labels = [\"[0], [0]\"]\n",
    "non_image_labels = [\"\"]\n",
    "encode_jointly = False\n",
    "imaging_feature_type = \"Image\"\n",
    "target_position = \"Default\"\n",
    "value_image_and_segmentation = \"ImageAndSegmentation\""
   ]
  },
  {
   "cell_type": "code",
   "execution_count": null,
   "metadata": {},
   "outputs": [],
   "source": [
    "if has_image_features:\n",
    "    image = np.load(os.path.join(os.path.join(gradcam_dir, \"image.npy\")))\n",
    "    grad_cam = np.load(os.path.join(gradcam_dir, \"gradcam.npy\"))\n",
    "    guided_grad_cam = np.load(os.path.join(gradcam_dir, \"guided_grad_cam.npy\"))\n",
    "if has_non_image_features:\n",
    "    gradcam_non_image_features = np.load(os.path.join(gradcam_dir, \"non_image_pseudo_cam.npy\"))"
   ]
  },
  {
   "cell_type": "code",
   "execution_count": null,
   "metadata": {},
   "outputs": [],
   "source": [
    "if has_image_features:\n",
    "    channels, slices = image.shape[:2]\n",
    "    if imaging_feature_type == value_image_and_segmentation:\n",
    "        channels //= 2\n",
    "else:\n",
    "    channels = gradcam_non_image_features.shape[0]\n",
    "\n",
    "if has_non_image_features:\n",
    "    gradcam_non_image_features = gradcam_non_image_features / gradcam_non_image_features.sum() * 100  "
   ]
  },
  {
   "cell_type": "markdown",
   "metadata": {},
   "source": [
    "### Model prediction"
   ]
  },
  {
   "cell_type": "code",
   "execution_count": null,
   "metadata": {},
   "outputs": [],
   "source": [
    "print(f\"Subject ID: {subject_id}\")\n",
    "print(f\"Target position: {target_position}\")\n",
    "print(f\"Probability predicted by the model {probas}\")\n",
    "print(f\"Ground truth label {ground_truth_labels}\")"
   ]
  },
  {
   "cell_type": "markdown",
   "metadata": {},
   "source": [
    "### Plot features importance"
   ]
  },
  {
   "cell_type": "code",
   "execution_count": null,
   "metadata": {},
   "outputs": [],
   "source": [
    "if has_non_image_features:\n",
    "    fig, ax = plt.subplots(figsize=(20,7))\n",
    "    x_data = np.arange(len(non_image_labels))\n",
    "    ax.bar(x_data, gradcam_non_image_features.flatten())  # type: ignore\n",
    "    ax.set_xticks(x_data)\n",
    "    ax.set_xticklabels(non_image_labels, rotation=90)\n",
    "    ax.set_title(f\"Relative non-imaging feature importance (%)\")\n",
    "else:\n",
    "    print(\"This model only uses imaging features\")"
   ]
  },
  {
   "cell_type": "markdown",
   "metadata": {},
   "source": [
    "### GradCam maps"
   ]
  },
  {
   "cell_type": "code",
   "execution_count": null,
   "metadata": {},
   "outputs": [],
   "source": [
    "if has_image_features:\n",
    "    if encode_jointly:\n",
    "        fig, ax = plt.subplots(slices, 1, figsize=(10, 5*slices))\n",
    "        for i in range(slices):\n",
    "            _plot_one_map(grad_cam, image, 0, i, i, None)\n",
    "    else:\n",
    "        fig, ax = plt.subplots(slices, channels, figsize=(20, 2*slices))\n",
    "        for i in range(slices):\n",
    "            for channel in range(channels):\n",
    "                _plot_one_map(grad_cam, image, channel, i, i, channel)\n",
    "else:\n",
    "    \"This model is not using images\""
   ]
  },
  {
   "cell_type": "markdown",
   "metadata": {},
   "source": [
    "### GuidedGradCam maps"
   ]
  },
  {
   "cell_type": "code",
   "execution_count": null,
   "metadata": {},
   "outputs": [],
   "source": [
    "figure_title = \"GuidedGrad for images\" if imaging_feature_type != value_image_and_segmentation \\\n",
    "                else \"GuidedGradCam for segmentations\"\n",
    "\n",
    "if has_image_features:\n",
    "        fig, ax = plt.subplots(slices, channels, figsize=(20, 2*slices))\n",
    "        for i in range(slices):\n",
    "            for channel in range(channels):\n",
    "                _plot_one_map(guided_grad_cam, image, channel, i, i, channel)\n",
    "        plt.suptitle(figure_title)\n",
    "else:\n",
    "    \"This model is not using images\""
   ]
  },
  {
   "cell_type": "code",
   "execution_count": null,
   "metadata": {},
   "outputs": [],
   "source": [
    "if imaging_feature_type == value_image_and_segmentation and has_image_features:\n",
    "        fig, ax = plt.subplots(slices, channels, figsize=(20, 2*slices))\n",
    "        for i in range(slices):\n",
    "            for channel in range(channels):\n",
    "                _plot_one_map(guided_grad_cam, image, channel + channels, i, i, channel)\n",
    "        plt.suptitle(\"GuidedGrad for Segmentations (imaging_type is ImageAndSegmentation)\")"
   ]
  }
 ],
 "metadata": {
  "celltoolbar": "Tags",
  "kernelspec": {
   "display_name": "Python 3",
   "language": "python",
   "name": "python3"
  },
  "language_info": {
   "codemirror_mode": {
    "name": "ipython",
    "version": 3
   },
   "file_extension": ".py",
   "mimetype": "text/x-python",
   "name": "python",
   "nbconvert_exporter": "python",
   "pygments_lexer": "ipython3",
   "version": "3.7.3"
  }
 },
 "nbformat": 4,
 "nbformat_minor": 4
}
